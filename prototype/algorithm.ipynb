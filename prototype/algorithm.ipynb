{
 "cells": [
  {
   "cell_type": "markdown",
   "metadata": {},
   "source": [
    "# Algorithm\n",
    "## Graduation project - Annemijn Portier"
   ]
  },
  {
   "cell_type": "markdown",
   "metadata": {},
   "source": [
    "----\n",
    "This file shows how the algorithm is executed with new data from the prototype."
   ]
  },
  {
   "cell_type": "markdown",
   "metadata": {},
   "source": [
    "----\n",
    "## Database connection\n",
    "First, a connection will be made to the database to retrieve the data."
   ]
  },
  {
   "cell_type": "code",
   "execution_count": 82,
   "metadata": {},
   "outputs": [],
   "source": [
    "#!/usr/bin/env python\n",
    "import pymysql\n",
    "import pandas as pd\n",
    "import seaborn as sns\n",
    "import matplotlib.pyplot as plt\n",
    "from sklearn.model_selection import train_test_split \n",
    "#Import Random Forest Model\n",
    "from sklearn.ensemble import RandomForestClassifier\n",
    "import numpy as np\n",
    "import mysql.connector\n",
    "\n",
    "#connect to database on localhost\n",
    "mydb = mysql.connector.connect(host='localhost',\n",
    "                                         database='loans',\n",
    "                                         user='root',\n",
    "                                         password='')"
   ]
  },
  {
   "cell_type": "markdown",
   "metadata": {},
   "source": [
    "The table data is retrieved and placed in a data frame. This data shows the data of customers who have already applied for a loan on Geld.nl"
   ]
  },
  {
   "cell_type": "code",
   "execution_count": 83,
   "metadata": {},
   "outputs": [
    {
     "data": {
      "text/html": [
       "<div>\n",
       "<style scoped>\n",
       "    .dataframe tbody tr th:only-of-type {\n",
       "        vertical-align: middle;\n",
       "    }\n",
       "\n",
       "    .dataframe tbody tr th {\n",
       "        vertical-align: top;\n",
       "    }\n",
       "\n",
       "    .dataframe thead th {\n",
       "        text-align: right;\n",
       "    }\n",
       "</style>\n",
       "<table border=\"1\" class=\"dataframe\">\n",
       "  <thead>\n",
       "    <tr style=\"text-align: right;\">\n",
       "      <th></th>\n",
       "      <th>id</th>\n",
       "      <th>date</th>\n",
       "      <th>providerName</th>\n",
       "      <th>reviewScore</th>\n",
       "      <th>interestRate</th>\n",
       "      <th>typeLoan</th>\n",
       "      <th>loanDuration</th>\n",
       "      <th>monthlyRepaymentAmount</th>\n",
       "      <th>loanPurpose</th>\n",
       "      <th>loanAmount</th>\n",
       "      <th>loanCategory</th>\n",
       "      <th>age</th>\n",
       "      <th>typeIncome</th>\n",
       "      <th>netIncome</th>\n",
       "      <th>agePartner</th>\n",
       "      <th>typeIncomePartner</th>\n",
       "      <th>netIncomePartner</th>\n",
       "      <th>children</th>\n",
       "      <th>province</th>\n",
       "      <th>residence</th>\n",
       "      <th>sortedBy</th>\n",
       "      <th>preferenceCompare products</th>\n",
       "      <th>positionProduct</th>\n",
       "      <th>consumptionValues</th>\n",
       "      <th>goals</th>\n",
       "    </tr>\n",
       "  </thead>\n",
       "  <tbody>\n",
       "    <tr>\n",
       "      <th>0</th>\n",
       "      <td>1</td>\n",
       "      <td>2019-03-14 00:00:00</td>\n",
       "      <td>3</td>\n",
       "      <td>77</td>\n",
       "      <td>4</td>\n",
       "      <td>1</td>\n",
       "      <td>120</td>\n",
       "      <td>150</td>\n",
       "      <td>1</td>\n",
       "      <td>17000</td>\n",
       "      <td>0</td>\n",
       "      <td>35</td>\n",
       "      <td>1</td>\n",
       "      <td>3347</td>\n",
       "      <td>34</td>\n",
       "      <td>1</td>\n",
       "      <td>840</td>\n",
       "      <td>1</td>\n",
       "      <td>1</td>\n",
       "      <td>158</td>\n",
       "      <td>1</td>\n",
       "      <td>0</td>\n",
       "      <td>0</td>\n",
       "      <td>0</td>\n",
       "      <td>3</td>\n",
       "    </tr>\n",
       "    <tr>\n",
       "      <th>1</th>\n",
       "      <td>2</td>\n",
       "      <td>2019-03-14 00:00:00</td>\n",
       "      <td>3</td>\n",
       "      <td>77</td>\n",
       "      <td>5</td>\n",
       "      <td>1</td>\n",
       "      <td>24</td>\n",
       "      <td>150</td>\n",
       "      <td>6</td>\n",
       "      <td>10000</td>\n",
       "      <td>0</td>\n",
       "      <td>27</td>\n",
       "      <td>2</td>\n",
       "      <td>5000</td>\n",
       "      <td>0</td>\n",
       "      <td>0</td>\n",
       "      <td>0</td>\n",
       "      <td>2</td>\n",
       "      <td>4</td>\n",
       "      <td>296</td>\n",
       "      <td>1</td>\n",
       "      <td>0</td>\n",
       "      <td>0</td>\n",
       "      <td>0</td>\n",
       "      <td>1</td>\n",
       "    </tr>\n",
       "    <tr>\n",
       "      <th>2</th>\n",
       "      <td>3</td>\n",
       "      <td>2019-03-14 00:00:00</td>\n",
       "      <td>3</td>\n",
       "      <td>77</td>\n",
       "      <td>3</td>\n",
       "      <td>1</td>\n",
       "      <td>120</td>\n",
       "      <td>150</td>\n",
       "      <td>1</td>\n",
       "      <td>33000</td>\n",
       "      <td>0</td>\n",
       "      <td>51</td>\n",
       "      <td>1</td>\n",
       "      <td>2584</td>\n",
       "      <td>54</td>\n",
       "      <td>1</td>\n",
       "      <td>2366</td>\n",
       "      <td>1</td>\n",
       "      <td>1</td>\n",
       "      <td>1164</td>\n",
       "      <td>1</td>\n",
       "      <td>0</td>\n",
       "      <td>0</td>\n",
       "      <td>0</td>\n",
       "      <td>3</td>\n",
       "    </tr>\n",
       "    <tr>\n",
       "      <th>3</th>\n",
       "      <td>4</td>\n",
       "      <td>2019-03-14 00:00:00</td>\n",
       "      <td>3</td>\n",
       "      <td>77</td>\n",
       "      <td>3</td>\n",
       "      <td>1</td>\n",
       "      <td>120</td>\n",
       "      <td>150</td>\n",
       "      <td>6</td>\n",
       "      <td>26000</td>\n",
       "      <td>0</td>\n",
       "      <td>52</td>\n",
       "      <td>1</td>\n",
       "      <td>2300</td>\n",
       "      <td>0</td>\n",
       "      <td>0</td>\n",
       "      <td>0</td>\n",
       "      <td>1</td>\n",
       "      <td>1</td>\n",
       "      <td>52</td>\n",
       "      <td>1</td>\n",
       "      <td>0</td>\n",
       "      <td>0</td>\n",
       "      <td>0</td>\n",
       "      <td>3</td>\n",
       "    </tr>\n",
       "    <tr>\n",
       "      <th>4</th>\n",
       "      <td>5</td>\n",
       "      <td>2019-03-14 00:00:00</td>\n",
       "      <td>3</td>\n",
       "      <td>77</td>\n",
       "      <td>4</td>\n",
       "      <td>1</td>\n",
       "      <td>120</td>\n",
       "      <td>150</td>\n",
       "      <td>2</td>\n",
       "      <td>15000</td>\n",
       "      <td>0</td>\n",
       "      <td>27</td>\n",
       "      <td>1</td>\n",
       "      <td>1100</td>\n",
       "      <td>0</td>\n",
       "      <td>0</td>\n",
       "      <td>0</td>\n",
       "      <td>2</td>\n",
       "      <td>2</td>\n",
       "      <td>870</td>\n",
       "      <td>1</td>\n",
       "      <td>0</td>\n",
       "      <td>0</td>\n",
       "      <td>0</td>\n",
       "      <td>3</td>\n",
       "    </tr>\n",
       "  </tbody>\n",
       "</table>\n",
       "</div>"
      ],
      "text/plain": [
       "   id                 date  providerName  reviewScore  interestRate  typeLoan  \\\n",
       "0   1  2019-03-14 00:00:00             3           77             4         1   \n",
       "1   2  2019-03-14 00:00:00             3           77             5         1   \n",
       "2   3  2019-03-14 00:00:00             3           77             3         1   \n",
       "3   4  2019-03-14 00:00:00             3           77             3         1   \n",
       "4   5  2019-03-14 00:00:00             3           77             4         1   \n",
       "\n",
       "   loanDuration  monthlyRepaymentAmount  loanPurpose  loanAmount  \\\n",
       "0           120                     150            1       17000   \n",
       "1            24                     150            6       10000   \n",
       "2           120                     150            1       33000   \n",
       "3           120                     150            6       26000   \n",
       "4           120                     150            2       15000   \n",
       "\n",
       "   loanCategory  age  typeIncome  netIncome  agePartner  typeIncomePartner  \\\n",
       "0             0   35           1       3347          34                  1   \n",
       "1             0   27           2       5000           0                  0   \n",
       "2             0   51           1       2584          54                  1   \n",
       "3             0   52           1       2300           0                  0   \n",
       "4             0   27           1       1100           0                  0   \n",
       "\n",
       "   netIncomePartner  children  province  residence  sortedBy  \\\n",
       "0               840         1         1        158         1   \n",
       "1                 0         2         4        296         1   \n",
       "2              2366         1         1       1164         1   \n",
       "3                 0         1         1         52         1   \n",
       "4                 0         2         2        870         1   \n",
       "\n",
       "   preferenceCompare products  positionProduct  consumptionValues  goals  \n",
       "0                           0                0                  0      3  \n",
       "1                           0                0                  0      1  \n",
       "2                           0                0                  0      3  \n",
       "3                           0                0                  0      3  \n",
       "4                           0                0                  0      3  "
      ]
     },
     "execution_count": 83,
     "metadata": {},
     "output_type": "execute_result"
    }
   ],
   "source": [
    "pd.set_option('display.max_columns', None) #show all columns\n",
    "df = pd.read_sql(\"select * from data\", mydb) #create new data frame\n",
    "df.head()"
   ]
  },
  {
   "cell_type": "code",
   "execution_count": 84,
   "metadata": {},
   "outputs": [
    {
     "name": "stdout",
     "output_type": "stream",
     "text": [
      "<class 'pandas.core.frame.DataFrame'>\n",
      "RangeIndex: 8368 entries, 0 to 8367\n",
      "Data columns (total 25 columns):\n",
      " #   Column                      Non-Null Count  Dtype \n",
      "---  ------                      --------------  ----- \n",
      " 0   id                          8368 non-null   int64 \n",
      " 1   date                        8368 non-null   object\n",
      " 2   providerName                8368 non-null   int64 \n",
      " 3   reviewScore                 8368 non-null   int64 \n",
      " 4   interestRate                8368 non-null   int64 \n",
      " 5   typeLoan                    8368 non-null   int64 \n",
      " 6   loanDuration                8368 non-null   int64 \n",
      " 7   monthlyRepaymentAmount      8368 non-null   int64 \n",
      " 8   loanPurpose                 8368 non-null   int64 \n",
      " 9   loanAmount                  8368 non-null   int64 \n",
      " 10  loanCategory                8368 non-null   int64 \n",
      " 11  age                         8368 non-null   int64 \n",
      " 12  typeIncome                  8368 non-null   int64 \n",
      " 13  netIncome                   8368 non-null   int64 \n",
      " 14  agePartner                  8368 non-null   int64 \n",
      " 15  typeIncomePartner           8368 non-null   int64 \n",
      " 16  netIncomePartner            8368 non-null   int64 \n",
      " 17  children                    8368 non-null   int64 \n",
      " 18  province                    8368 non-null   int64 \n",
      " 19  residence                   8368 non-null   int64 \n",
      " 20  sortedBy                    8368 non-null   int64 \n",
      " 21  preferenceCompare products  8368 non-null   int64 \n",
      " 22  positionProduct             8368 non-null   int64 \n",
      " 23  consumptionValues           8368 non-null   int64 \n",
      " 24  goals                       8368 non-null   int64 \n",
      "dtypes: int64(24), object(1)\n",
      "memory usage: 1.6+ MB\n"
     ]
    }
   ],
   "source": [
    "df.info()"
   ]
  },
  {
   "cell_type": "markdown",
   "metadata": {},
   "source": [
    "----\n",
    "## Predicting variable review score\n",
    "The variable review score will be predicted with the new data of the prototype."
   ]
  },
  {
   "cell_type": "code",
   "execution_count": 85,
   "metadata": {},
   "outputs": [],
   "source": [
    "y = df['reviewScore']#create the y-variable\n",
    "X = df[['loanPurpose', 'loanAmount', 'age', 'typeIncome', 'netIncome','agePartner','typeIncomePartner', \n",
    "               'netIncomePartner','children','positionProduct','consumptionValues', 'goals']]\n",
    "X_train, X_test, y_train, y_test = train_test_split(X, y, test_size=0.3, random_state=44) #split the data into test and training set\n",
    "\n",
    "\n",
    "#Create a Gaussian Classifier\n",
    "rf=RandomForestClassifier(bootstrap= True, max_depth= None, max_features= 3, min_samples_split= 8, n_estimators= 343)\n",
    "\n",
    "#Train the model using the training sets y_pred=clf.predict(X_test)\n",
    "rf=rf.fit(X_train,y_train)\n",
    "\n",
    "y_pred_rs=rf.predict(X_test)"
   ]
  },
  {
   "cell_type": "markdown",
   "metadata": {},
   "source": [
    "The table customerdata is retrieved and placed in a data frame. This data shows the new data that has been retrieved from the prototype where new customers want to apply for a loan. The last row is retrieved with **tail(1)** and placed in a new data frame. This row is the last customer that entered their information in the prototype and with this row new predictions will be made to give advice."
   ]
  },
  {
   "cell_type": "code",
   "execution_count": 86,
   "metadata": {},
   "outputs": [
    {
     "data": {
      "text/html": [
       "<div>\n",
       "<style scoped>\n",
       "    .dataframe tbody tr th:only-of-type {\n",
       "        vertical-align: middle;\n",
       "    }\n",
       "\n",
       "    .dataframe tbody tr th {\n",
       "        vertical-align: top;\n",
       "    }\n",
       "\n",
       "    .dataframe thead th {\n",
       "        text-align: right;\n",
       "    }\n",
       "</style>\n",
       "<table border=\"1\" class=\"dataframe\">\n",
       "  <thead>\n",
       "    <tr style=\"text-align: right;\">\n",
       "      <th></th>\n",
       "      <th>id</th>\n",
       "      <th>loanPurpose</th>\n",
       "      <th>loanAmount</th>\n",
       "      <th>monthamount</th>\n",
       "      <th>monthamount2</th>\n",
       "      <th>monthamount3</th>\n",
       "      <th>loanCategory</th>\n",
       "      <th>age</th>\n",
       "      <th>typeIncome</th>\n",
       "      <th>netIncome</th>\n",
       "      <th>agePartner</th>\n",
       "      <th>typeIncomePartner</th>\n",
       "      <th>netIncomePartner</th>\n",
       "      <th>children</th>\n",
       "      <th>province</th>\n",
       "      <th>consumptionValues</th>\n",
       "      <th>goals</th>\n",
       "      <th>positionProduct</th>\n",
       "      <th>reviewScore</th>\n",
       "      <th>interestRate</th>\n",
       "      <th>typeLoan</th>\n",
       "      <th>loanDuration</th>\n",
       "      <th>monthlyRepaymentAmount</th>\n",
       "      <th>reviewScore2</th>\n",
       "      <th>reviewScore3</th>\n",
       "      <th>interestRate2</th>\n",
       "      <th>interestRate3</th>\n",
       "      <th>loanDuration2</th>\n",
       "      <th>loanDuration3</th>\n",
       "      <th>highestReviewScore</th>\n",
       "      <th>lowestLoanDuration</th>\n",
       "      <th>persuasion</th>\n",
       "      <th>persuasion2</th>\n",
       "      <th>persuasion3</th>\n",
       "    </tr>\n",
       "  </thead>\n",
       "  <tbody>\n",
       "    <tr>\n",
       "      <th>10</th>\n",
       "      <td>39</td>\n",
       "      <td>1</td>\n",
       "      <td>25000</td>\n",
       "      <td>429</td>\n",
       "      <td>2166</td>\n",
       "      <td>729</td>\n",
       "      <td>0</td>\n",
       "      <td>55</td>\n",
       "      <td>1</td>\n",
       "      <td>3000</td>\n",
       "      <td>44</td>\n",
       "      <td>1</td>\n",
       "      <td>3400</td>\n",
       "      <td>2</td>\n",
       "      <td>11</td>\n",
       "      <td>3</td>\n",
       "      <td>7</td>\n",
       "      <td>0</td>\n",
       "      <td>77</td>\n",
       "      <td>3</td>\n",
       "      <td>1</td>\n",
       "      <td>60</td>\n",
       "      <td>0</td>\n",
       "      <td>76</td>\n",
       "      <td>79</td>\n",
       "      <td>4</td>\n",
       "      <td>5</td>\n",
       "      <td>12</td>\n",
       "      <td>36</td>\n",
       "      <td>79</td>\n",
       "      <td>12</td>\n",
       "      <td>1086</td>\n",
       "      <td>170</td>\n",
       "      <td>201</td>\n",
       "    </tr>\n",
       "  </tbody>\n",
       "</table>\n",
       "</div>"
      ],
      "text/plain": [
       "    id  loanPurpose  loanAmount  monthamount  monthamount2  monthamount3  \\\n",
       "10  39            1       25000          429          2166           729   \n",
       "\n",
       "   loanCategory  age  typeIncome  netIncome  agePartner  typeIncomePartner  \\\n",
       "10            0   55           1       3000          44                  1   \n",
       "\n",
       "    netIncomePartner  children  province  consumptionValues  goals  \\\n",
       "10              3400         2        11                  3      7   \n",
       "\n",
       "    positionProduct  reviewScore  interestRate  typeLoan  loanDuration  \\\n",
       "10                0           77             3         1            60   \n",
       "\n",
       "    monthlyRepaymentAmount  reviewScore2  reviewScore3  interestRate2  \\\n",
       "10                       0            76            79              4   \n",
       "\n",
       "    interestRate3  loanDuration2  loanDuration3  highestReviewScore  \\\n",
       "10              5             12             36                  79   \n",
       "\n",
       "    lowestLoanDuration  persuasion  persuasion2  persuasion3  \n",
       "10                  12        1086          170          201  "
      ]
     },
     "execution_count": 86,
     "metadata": {},
     "output_type": "execute_result"
    }
   ],
   "source": [
    "df2 = pd.read_sql(\"select * from customerdata\", mydb).tail(1) #only select last row of data frame\n",
    "\n",
    "df2.head()"
   ]
  },
  {
   "cell_type": "markdown",
   "metadata": {},
   "source": [
    "To put all new data with the same customer in the database, the customer's ID has been retrieved."
   ]
  },
  {
   "cell_type": "code",
   "execution_count": 87,
   "metadata": {},
   "outputs": [
    {
     "name": "stdout",
     "output_type": "stream",
     "text": [
      " 39\n"
     ]
    }
   ],
   "source": [
    "id_customer = df2['id'].to_string(index=False)\n",
    "print(id_customer)"
   ]
  },
  {
   "cell_type": "markdown",
   "metadata": {},
   "source": [
    "With the data frame in which the last customer is placed, a prediction is made for the variable review score."
   ]
  },
  {
   "cell_type": "code",
   "execution_count": 88,
   "metadata": {},
   "outputs": [
    {
     "name": "stdout",
     "output_type": "stream",
     "text": [
      "77\n"
     ]
    }
   ],
   "source": [
    "Xnew = df2[['loanPurpose', 'loanAmount', 'age', 'typeIncome', 'netIncome','agePartner','typeIncomePartner', \n",
    "               'netIncomePartner','children','positionProduct','consumptionValues', 'goals']]\n",
    "\n",
    "ynew = rf.predict(Xnew) #make new prediction\n",
    "\n",
    "Yrs = ''.join(str(e) for e in ynew)\n",
    "Yrs = int(Yrs)\n",
    "print(Yrs)"
   ]
  },
  {
   "cell_type": "markdown",
   "metadata": {},
   "source": [
    "### Predicted probabilties\n",
    "Predicted probabilities looks at the probability of a class that is calculated from the algorithm. With the predicted probabilities I selected the top 3 highest predicted probabilities for the variable review score."
   ]
  },
  {
   "cell_type": "code",
   "execution_count": 89,
   "metadata": {},
   "outputs": [
    {
     "data": {
      "text/plain": [
       "[(79, 0.052145975178045145),\n",
       " (76, 0.1099168324386983),\n",
       " (77, 0.7620777020193931)]"
      ]
     },
     "execution_count": 89,
     "metadata": {},
     "output_type": "execute_result"
    }
   ],
   "source": [
    "probs = rf.predict_proba(Xnew) #create predicted probabilties\n",
    "probs = sorted( zip( rf.classes_, probs[0] ), key=lambda x:x[1] )[-3:] #show the top 3 predicted probabilties\n",
    "probs"
   ]
  },
  {
   "cell_type": "markdown",
   "metadata": {},
   "source": [
    "These predicted probabilities have been added to new variables to be stored to the database later."
   ]
  },
  {
   "cell_type": "code",
   "execution_count": 90,
   "metadata": {},
   "outputs": [
    {
     "data": {
      "text/plain": [
       "76"
      ]
     },
     "execution_count": 90,
     "metadata": {},
     "output_type": "execute_result"
    }
   ],
   "source": [
    "Yrs2 = probs[1]\n",
    "Yrs2 = ' '.join(map(str, Yrs2))\n",
    "Yrs2 = Yrs2[:2]\n",
    "Yrs2 = int(Yrs2)\n",
    "Yrs2"
   ]
  },
  {
   "cell_type": "code",
   "execution_count": 91,
   "metadata": {},
   "outputs": [
    {
     "data": {
      "text/plain": [
       "79"
      ]
     },
     "execution_count": 91,
     "metadata": {},
     "output_type": "execute_result"
    }
   ],
   "source": [
    "Yrs3 = probs[0]\n",
    "Yrs3 = ' '.join(map(str, Yrs3))\n",
    "Yrs3 = Yrs3[:2]\n",
    "Yrs3 = int(Yrs3)\n",
    "Yrs3"
   ]
  },
  {
   "cell_type": "markdown",
   "metadata": {},
   "source": [
    "### Label highest review score\n",
    "To create the label highest review score for the prototype, the predicted probabilties that have the highest review score were examined. The highest review score was then stored in a new variable."
   ]
  },
  {
   "cell_type": "code",
   "execution_count": 92,
   "metadata": {},
   "outputs": [
    {
     "name": "stdout",
     "output_type": "stream",
     "text": [
      "79\n"
     ]
    }
   ],
   "source": [
    "highestReviewScore = int(max(Yrs, Yrs2, Yrs3))\n",
    "highestReviewScore = int(highestReviewScore)\n",
    "print(highestReviewScore)"
   ]
  },
  {
   "cell_type": "markdown",
   "metadata": {},
   "source": [
    "----\n",
    "## Predicting variable interest rate\n",
    "The variable interest rate will be predicted with the new data of the prototype."
   ]
  },
  {
   "cell_type": "code",
   "execution_count": 93,
   "metadata": {},
   "outputs": [],
   "source": [
    "y = df['interestRate']#create the y-variable\n",
    "X_train, X_test, y_train, y_test = train_test_split(X, y, test_size=0.3, random_state=44) #split the data into test and training set\n",
    "\n",
    "\n",
    "#Create a Gaussian Classifier\n",
    "rf=RandomForestClassifier(bootstrap= True, max_depth= None, max_features= 3, min_samples_split= 8, n_estimators= 343)\n",
    "\n",
    "#Train the model using the training sets y_pred=clf.predict(X_test)\n",
    "rf=rf.fit(X_train,y_train)\n",
    "\n",
    "y_pred_rs=rf.predict(X_test)"
   ]
  },
  {
   "cell_type": "markdown",
   "metadata": {},
   "source": [
    "With the data frame in which the last customer is placed, a prediction is made for the variable interest rate."
   ]
  },
  {
   "cell_type": "code",
   "execution_count": 94,
   "metadata": {},
   "outputs": [
    {
     "name": "stdout",
     "output_type": "stream",
     "text": [
      "3\n"
     ]
    }
   ],
   "source": [
    "ynew = rf.predict(Xnew)\n",
    "\n",
    "Yir = ''.join(str(e) for e in ynew) #make new prediction\n",
    "Yir = int(Yir)\n",
    "print(Yir)"
   ]
  },
  {
   "cell_type": "markdown",
   "metadata": {},
   "source": [
    "### Predicted probabilties\n",
    "With the predicted probabilities I selected the top 3 highest predicted probabilities for the variable interest rate."
   ]
  },
  {
   "cell_type": "code",
   "execution_count": 95,
   "metadata": {},
   "outputs": [
    {
     "data": {
      "text/plain": [
       "[(5, 0.021714429075945108), (4, 0.24187696009853457), (3, 0.7275093306434416)]"
      ]
     },
     "execution_count": 95,
     "metadata": {},
     "output_type": "execute_result"
    }
   ],
   "source": [
    "probs_Yir = rf.predict_proba(Xnew) #create predicted probabilties\n",
    "probs_Yir = sorted( zip( rf.classes_, probs_Yir[0] ), key=lambda x:x[1] )[-3:] #show the top 3 predicted probabilties\n",
    "probs_Yir"
   ]
  },
  {
   "cell_type": "markdown",
   "metadata": {},
   "source": [
    "These predicted probabilities have been added to new variables to be stored to the database later."
   ]
  },
  {
   "cell_type": "code",
   "execution_count": 96,
   "metadata": {},
   "outputs": [
    {
     "data": {
      "text/plain": [
       "4"
      ]
     },
     "execution_count": 96,
     "metadata": {},
     "output_type": "execute_result"
    }
   ],
   "source": [
    "Yir2 = probs_Yir[1]\n",
    "Yir2 = ' '.join(map(str, Yir2))\n",
    "Yir2 = Yir2[:2]\n",
    "Yir2 = int(Yir2)\n",
    "Yir2"
   ]
  },
  {
   "cell_type": "code",
   "execution_count": 97,
   "metadata": {},
   "outputs": [
    {
     "data": {
      "text/plain": [
       "5"
      ]
     },
     "execution_count": 97,
     "metadata": {},
     "output_type": "execute_result"
    }
   ],
   "source": [
    "Yir3 = probs_Yir[0]\n",
    "Yir3 = ' '.join(map(str, Yir3))\n",
    "Yir3 = Yir3[:2]\n",
    "Yir3 = int(Yir3)\n",
    "Yir3"
   ]
  },
  {
   "cell_type": "markdown",
   "metadata": {},
   "source": [
    "---\n",
    "## Predicting variable type of loan\n",
    "The variable type of loan will be predicted with the new data of the prototype."
   ]
  },
  {
   "cell_type": "code",
   "execution_count": 98,
   "metadata": {},
   "outputs": [],
   "source": [
    "y = df['typeLoan']#create the y-variable\n",
    "X_train, X_test, y_train, y_test = train_test_split(X, y, test_size=0.3, random_state=44) #split the data into test and training set\n",
    "\n",
    "\n",
    "#Create a Gaussian Classifier\n",
    "rf=RandomForestClassifier(bootstrap= True, max_depth= None, max_features= 3, min_samples_split= 8, n_estimators= 343)\n",
    "\n",
    "#Train the model using the training sets y_pred=clf.predict(X_test)\n",
    "rf=rf.fit(X_train,y_train)\n",
    "\n",
    "y_pred_rs=rf.predict(X_test)"
   ]
  },
  {
   "cell_type": "markdown",
   "metadata": {},
   "source": [
    "Based on the data analysis in the notebook *Data cleaning, data analysis and machine learning algorithms.ipynb*, it was noticed that type of loan has very few data records of the class revolving credit. Therefore, it was decided to only predict the class personal loan because this class is only correctly predicted."
   ]
  },
  {
   "cell_type": "code",
   "execution_count": 99,
   "metadata": {},
   "outputs": [
    {
     "name": "stdout",
     "output_type": "stream",
     "text": [
      "1\n"
     ]
    }
   ],
   "source": [
    "ynew = rf.predict(Xnew)\n",
    "\n",
    "Ytl = ''.join(str(e) for e in ynew) #make new prediction\n",
    "Ytl = int(Ytl)\n",
    "print(Ytl)"
   ]
  },
  {
   "cell_type": "markdown",
   "metadata": {},
   "source": [
    "---\n",
    "## Predicting variable loan duration\n",
    "The variable loan duration will be predicted with the new data of the prototype."
   ]
  },
  {
   "cell_type": "code",
   "execution_count": 100,
   "metadata": {},
   "outputs": [],
   "source": [
    "y = df['loanDuration']#create the y-variable\n",
    "X_train, X_test, y_train, y_test = train_test_split(X, y, test_size=0.3, random_state=44) #split the data into test and training set\n",
    "\n",
    "\n",
    "#Create a Gaussian Classifier\n",
    "rf=RandomForestClassifier(bootstrap= True, max_depth= None, max_features= 3, min_samples_split= 8, n_estimators= 343)\n",
    "\n",
    "#Train the model using the training sets y_pred=clf.predict(X_test)\n",
    "rf=rf.fit(X_train,y_train)\n",
    "\n",
    "y_pred_rs=rf.predict(X_test)"
   ]
  },
  {
   "cell_type": "code",
   "execution_count": 101,
   "metadata": {},
   "outputs": [
    {
     "name": "stdout",
     "output_type": "stream",
     "text": [
      "60\n"
     ]
    }
   ],
   "source": [
    "ynew = rf.predict(Xnew)\n",
    "\n",
    "Yld = ''.join(str(e) for e in ynew) #make new prediction\n",
    "Yld = int(Yld)\n",
    "print(Yld)"
   ]
  },
  {
   "cell_type": "markdown",
   "metadata": {},
   "source": [
    "### Predicted probabilties\n",
    "With the predicted probabilities I selected the top 3 highest predicted probabilities for the variable loan duration."
   ]
  },
  {
   "cell_type": "code",
   "execution_count": 102,
   "metadata": {},
   "outputs": [
    {
     "data": {
      "text/plain": [
       "[(36, 0.08779622547844124),\n",
       " (120, 0.3456258877177244),\n",
       " (60, 0.42332577124851173)]"
      ]
     },
     "execution_count": 102,
     "metadata": {},
     "output_type": "execute_result"
    }
   ],
   "source": [
    "probs_Yld = rf.predict_proba(Xnew) #create predicted probabilties\n",
    "probs_Yld = sorted( zip( rf.classes_, probs_Yld[0] ), key=lambda x:x[1] )[-3:] #show the top 3 predicted probabilties\n",
    "probs_Yld"
   ]
  },
  {
   "cell_type": "markdown",
   "metadata": {},
   "source": [
    "These predicted probabilities have been added to new variables to be stored to the database later."
   ]
  },
  {
   "cell_type": "code",
   "execution_count": 103,
   "metadata": {},
   "outputs": [
    {
     "data": {
      "text/plain": [
       "12"
      ]
     },
     "execution_count": 103,
     "metadata": {},
     "output_type": "execute_result"
    }
   ],
   "source": [
    "Yld2 = probs_Yld[1]\n",
    "Yld2 = ' '.join(map(str, Yld2))\n",
    "Yld2 = Yld2[:2]\n",
    "Yld2 = int(Yld2)\n",
    "Yld2"
   ]
  },
  {
   "cell_type": "code",
   "execution_count": 104,
   "metadata": {},
   "outputs": [
    {
     "data": {
      "text/plain": [
       "36"
      ]
     },
     "execution_count": 104,
     "metadata": {},
     "output_type": "execute_result"
    }
   ],
   "source": [
    "Yld3 = probs_Yld[0]\n",
    "Yld3 = ' '.join(map(str, Yld3))\n",
    "Yld3 = Yld3[:2]\n",
    "Yld3 = int(Yld3)\n",
    "Yld3"
   ]
  },
  {
   "cell_type": "markdown",
   "metadata": {},
   "source": [
    "### Label lowest loan duration\n",
    "To create the label lowest loan duration for the prototype, the predicted probabilties that have the lowest loan duration were examined. The lowest loan duration was then stored in a new variable."
   ]
  },
  {
   "cell_type": "code",
   "execution_count": 105,
   "metadata": {},
   "outputs": [
    {
     "name": "stdout",
     "output_type": "stream",
     "text": [
      "12\n"
     ]
    }
   ],
   "source": [
    "lowestLoanDuration = int(min(Yld, Yld2, Yld3))\n",
    "lowestLoanDuration = int(lowestLoanDuration)\n",
    "print(lowestLoanDuration)"
   ]
  },
  {
   "cell_type": "markdown",
   "metadata": {},
   "source": [
    "---\n",
    "## Personalized persuasive information\n",
    "Based on the persuasion knowledge theory in the academic paper, it was important to create informative and subtle personalized persuasive information that leads to an improved decision quality. With each predicted advice, the personalized persuasive information shows how many customers with the same loan purpose have also applied for the same provider. "
   ]
  },
  {
   "cell_type": "code",
   "execution_count": 106,
   "metadata": {},
   "outputs": [
    {
     "data": {
      "text/plain": [
       "1"
      ]
     },
     "execution_count": 106,
     "metadata": {},
     "output_type": "execute_result"
    }
   ],
   "source": [
    "loanPurpose = df2.iloc[0]['loanPurpose'] #show which loan purpose the new customer has\n",
    "loanPurpose"
   ]
  },
  {
   "cell_type": "markdown",
   "metadata": {},
   "source": [
    "To find out how many customers with the same loan purpose per predicted advice chose the same provider, I calculated the number of rows that has the same loan purpose and same provider."
   ]
  },
  {
   "cell_type": "code",
   "execution_count": 107,
   "metadata": {},
   "outputs": [
    {
     "data": {
      "text/html": [
       "<div>\n",
       "<style scoped>\n",
       "    .dataframe tbody tr th:only-of-type {\n",
       "        vertical-align: middle;\n",
       "    }\n",
       "\n",
       "    .dataframe tbody tr th {\n",
       "        vertical-align: top;\n",
       "    }\n",
       "\n",
       "    .dataframe thead th {\n",
       "        text-align: right;\n",
       "    }\n",
       "</style>\n",
       "<table border=\"1\" class=\"dataframe\">\n",
       "  <thead>\n",
       "    <tr style=\"text-align: right;\">\n",
       "      <th></th>\n",
       "      <th>id</th>\n",
       "      <th>date</th>\n",
       "      <th>providerName</th>\n",
       "      <th>reviewScore</th>\n",
       "      <th>interestRate</th>\n",
       "      <th>typeLoan</th>\n",
       "      <th>loanDuration</th>\n",
       "      <th>monthlyRepaymentAmount</th>\n",
       "      <th>loanPurpose</th>\n",
       "      <th>loanAmount</th>\n",
       "      <th>loanCategory</th>\n",
       "      <th>age</th>\n",
       "      <th>typeIncome</th>\n",
       "      <th>netIncome</th>\n",
       "      <th>agePartner</th>\n",
       "      <th>typeIncomePartner</th>\n",
       "      <th>netIncomePartner</th>\n",
       "      <th>children</th>\n",
       "      <th>province</th>\n",
       "      <th>residence</th>\n",
       "      <th>sortedBy</th>\n",
       "      <th>preferenceCompare products</th>\n",
       "      <th>positionProduct</th>\n",
       "      <th>consumptionValues</th>\n",
       "      <th>goals</th>\n",
       "    </tr>\n",
       "  </thead>\n",
       "  <tbody>\n",
       "    <tr>\n",
       "      <th>0</th>\n",
       "      <td>1</td>\n",
       "      <td>2019-03-14 00:00:00</td>\n",
       "      <td>3</td>\n",
       "      <td>77</td>\n",
       "      <td>4</td>\n",
       "      <td>1</td>\n",
       "      <td>120</td>\n",
       "      <td>150</td>\n",
       "      <td>1</td>\n",
       "      <td>17000</td>\n",
       "      <td>0</td>\n",
       "      <td>35</td>\n",
       "      <td>1</td>\n",
       "      <td>3347</td>\n",
       "      <td>34</td>\n",
       "      <td>1</td>\n",
       "      <td>840</td>\n",
       "      <td>1</td>\n",
       "      <td>1</td>\n",
       "      <td>158</td>\n",
       "      <td>1</td>\n",
       "      <td>0</td>\n",
       "      <td>0</td>\n",
       "      <td>0</td>\n",
       "      <td>3</td>\n",
       "    </tr>\n",
       "    <tr>\n",
       "      <th>2</th>\n",
       "      <td>3</td>\n",
       "      <td>2019-03-14 00:00:00</td>\n",
       "      <td>3</td>\n",
       "      <td>77</td>\n",
       "      <td>3</td>\n",
       "      <td>1</td>\n",
       "      <td>120</td>\n",
       "      <td>150</td>\n",
       "      <td>1</td>\n",
       "      <td>33000</td>\n",
       "      <td>0</td>\n",
       "      <td>51</td>\n",
       "      <td>1</td>\n",
       "      <td>2584</td>\n",
       "      <td>54</td>\n",
       "      <td>1</td>\n",
       "      <td>2366</td>\n",
       "      <td>1</td>\n",
       "      <td>1</td>\n",
       "      <td>1164</td>\n",
       "      <td>1</td>\n",
       "      <td>0</td>\n",
       "      <td>0</td>\n",
       "      <td>0</td>\n",
       "      <td>3</td>\n",
       "    </tr>\n",
       "    <tr>\n",
       "      <th>8</th>\n",
       "      <td>9</td>\n",
       "      <td>2019-03-16 00:00:00</td>\n",
       "      <td>3</td>\n",
       "      <td>77</td>\n",
       "      <td>4</td>\n",
       "      <td>1</td>\n",
       "      <td>108</td>\n",
       "      <td>150</td>\n",
       "      <td>1</td>\n",
       "      <td>15000</td>\n",
       "      <td>0</td>\n",
       "      <td>57</td>\n",
       "      <td>1</td>\n",
       "      <td>2750</td>\n",
       "      <td>55</td>\n",
       "      <td>1</td>\n",
       "      <td>880</td>\n",
       "      <td>2</td>\n",
       "      <td>3</td>\n",
       "      <td>1170</td>\n",
       "      <td>1</td>\n",
       "      <td>0</td>\n",
       "      <td>0</td>\n",
       "      <td>0</td>\n",
       "      <td>3</td>\n",
       "    </tr>\n",
       "    <tr>\n",
       "      <th>12</th>\n",
       "      <td>13</td>\n",
       "      <td>2019-03-16 00:00:00</td>\n",
       "      <td>3</td>\n",
       "      <td>77</td>\n",
       "      <td>3</td>\n",
       "      <td>1</td>\n",
       "      <td>120</td>\n",
       "      <td>150</td>\n",
       "      <td>1</td>\n",
       "      <td>25000</td>\n",
       "      <td>0</td>\n",
       "      <td>26</td>\n",
       "      <td>1</td>\n",
       "      <td>2000</td>\n",
       "      <td>0</td>\n",
       "      <td>0</td>\n",
       "      <td>0</td>\n",
       "      <td>2</td>\n",
       "      <td>2</td>\n",
       "      <td>3</td>\n",
       "      <td>1</td>\n",
       "      <td>0</td>\n",
       "      <td>0</td>\n",
       "      <td>0</td>\n",
       "      <td>3</td>\n",
       "    </tr>\n",
       "    <tr>\n",
       "      <th>19</th>\n",
       "      <td>20</td>\n",
       "      <td>2019-03-17 00:00:00</td>\n",
       "      <td>3</td>\n",
       "      <td>77</td>\n",
       "      <td>4</td>\n",
       "      <td>1</td>\n",
       "      <td>60</td>\n",
       "      <td>150</td>\n",
       "      <td>1</td>\n",
       "      <td>17000</td>\n",
       "      <td>0</td>\n",
       "      <td>54</td>\n",
       "      <td>1</td>\n",
       "      <td>3600</td>\n",
       "      <td>58</td>\n",
       "      <td>1</td>\n",
       "      <td>1500</td>\n",
       "      <td>2</td>\n",
       "      <td>6</td>\n",
       "      <td>725</td>\n",
       "      <td>1</td>\n",
       "      <td>1</td>\n",
       "      <td>0</td>\n",
       "      <td>1</td>\n",
       "      <td>2</td>\n",
       "    </tr>\n",
       "  </tbody>\n",
       "</table>\n",
       "</div>"
      ],
      "text/plain": [
       "    id                 date  providerName  reviewScore  interestRate  \\\n",
       "0    1  2019-03-14 00:00:00             3           77             4   \n",
       "2    3  2019-03-14 00:00:00             3           77             3   \n",
       "8    9  2019-03-16 00:00:00             3           77             4   \n",
       "12  13  2019-03-16 00:00:00             3           77             3   \n",
       "19  20  2019-03-17 00:00:00             3           77             4   \n",
       "\n",
       "    typeLoan  loanDuration  monthlyRepaymentAmount  loanPurpose  loanAmount  \\\n",
       "0          1           120                     150            1       17000   \n",
       "2          1           120                     150            1       33000   \n",
       "8          1           108                     150            1       15000   \n",
       "12         1           120                     150            1       25000   \n",
       "19         1            60                     150            1       17000   \n",
       "\n",
       "    loanCategory  age  typeIncome  netIncome  agePartner  typeIncomePartner  \\\n",
       "0              0   35           1       3347          34                  1   \n",
       "2              0   51           1       2584          54                  1   \n",
       "8              0   57           1       2750          55                  1   \n",
       "12             0   26           1       2000           0                  0   \n",
       "19             0   54           1       3600          58                  1   \n",
       "\n",
       "    netIncomePartner  children  province  residence  sortedBy  \\\n",
       "0                840         1         1        158         1   \n",
       "2               2366         1         1       1164         1   \n",
       "8                880         2         3       1170         1   \n",
       "12                 0         2         2          3         1   \n",
       "19              1500         2         6        725         1   \n",
       "\n",
       "    preferenceCompare products  positionProduct  consumptionValues  goals  \n",
       "0                            0                0                  0      3  \n",
       "2                            0                0                  0      3  \n",
       "8                            0                0                  0      3  \n",
       "12                           0                0                  0      3  \n",
       "19                           1                0                  1      2  "
      ]
     },
     "execution_count": 107,
     "metadata": {},
     "output_type": "execute_result"
    }
   ],
   "source": [
    "df_subset = df.loc[df['loanPurpose'] == loanPurpose] #create new data frame with rows that has the same loan purpose as the new customer\n",
    "df_subset.head()"
   ]
  },
  {
   "cell_type": "code",
   "execution_count": 108,
   "metadata": {},
   "outputs": [
    {
     "data": {
      "text/plain": [
       "2415"
      ]
     },
     "execution_count": 108,
     "metadata": {},
     "output_type": "execute_result"
    }
   ],
   "source": [
    "amountrows = df_subset.shape[0] #calculate the amount of rows with same loan purpose\n",
    "amountrows"
   ]
  },
  {
   "cell_type": "code",
   "execution_count": 109,
   "metadata": {},
   "outputs": [
    {
     "data": {
      "text/html": [
       "<div>\n",
       "<style scoped>\n",
       "    .dataframe tbody tr th:only-of-type {\n",
       "        vertical-align: middle;\n",
       "    }\n",
       "\n",
       "    .dataframe tbody tr th {\n",
       "        vertical-align: top;\n",
       "    }\n",
       "\n",
       "    .dataframe thead th {\n",
       "        text-align: right;\n",
       "    }\n",
       "</style>\n",
       "<table border=\"1\" class=\"dataframe\">\n",
       "  <thead>\n",
       "    <tr style=\"text-align: right;\">\n",
       "      <th></th>\n",
       "      <th>id</th>\n",
       "      <th>date</th>\n",
       "      <th>providerName</th>\n",
       "      <th>reviewScore</th>\n",
       "      <th>interestRate</th>\n",
       "      <th>typeLoan</th>\n",
       "      <th>loanDuration</th>\n",
       "      <th>monthlyRepaymentAmount</th>\n",
       "      <th>loanPurpose</th>\n",
       "      <th>loanAmount</th>\n",
       "      <th>loanCategory</th>\n",
       "      <th>age</th>\n",
       "      <th>typeIncome</th>\n",
       "      <th>netIncome</th>\n",
       "      <th>agePartner</th>\n",
       "      <th>typeIncomePartner</th>\n",
       "      <th>netIncomePartner</th>\n",
       "      <th>children</th>\n",
       "      <th>province</th>\n",
       "      <th>residence</th>\n",
       "      <th>sortedBy</th>\n",
       "      <th>preferenceCompare products</th>\n",
       "      <th>positionProduct</th>\n",
       "      <th>consumptionValues</th>\n",
       "      <th>goals</th>\n",
       "    </tr>\n",
       "  </thead>\n",
       "  <tbody>\n",
       "    <tr>\n",
       "      <th>0</th>\n",
       "      <td>1</td>\n",
       "      <td>2019-03-14 00:00:00</td>\n",
       "      <td>3</td>\n",
       "      <td>77</td>\n",
       "      <td>4</td>\n",
       "      <td>1</td>\n",
       "      <td>120</td>\n",
       "      <td>150</td>\n",
       "      <td>1</td>\n",
       "      <td>17000</td>\n",
       "      <td>0</td>\n",
       "      <td>35</td>\n",
       "      <td>1</td>\n",
       "      <td>3347</td>\n",
       "      <td>34</td>\n",
       "      <td>1</td>\n",
       "      <td>840</td>\n",
       "      <td>1</td>\n",
       "      <td>1</td>\n",
       "      <td>158</td>\n",
       "      <td>1</td>\n",
       "      <td>0</td>\n",
       "      <td>0</td>\n",
       "      <td>0</td>\n",
       "      <td>3</td>\n",
       "    </tr>\n",
       "    <tr>\n",
       "      <th>2</th>\n",
       "      <td>3</td>\n",
       "      <td>2019-03-14 00:00:00</td>\n",
       "      <td>3</td>\n",
       "      <td>77</td>\n",
       "      <td>3</td>\n",
       "      <td>1</td>\n",
       "      <td>120</td>\n",
       "      <td>150</td>\n",
       "      <td>1</td>\n",
       "      <td>33000</td>\n",
       "      <td>0</td>\n",
       "      <td>51</td>\n",
       "      <td>1</td>\n",
       "      <td>2584</td>\n",
       "      <td>54</td>\n",
       "      <td>1</td>\n",
       "      <td>2366</td>\n",
       "      <td>1</td>\n",
       "      <td>1</td>\n",
       "      <td>1164</td>\n",
       "      <td>1</td>\n",
       "      <td>0</td>\n",
       "      <td>0</td>\n",
       "      <td>0</td>\n",
       "      <td>3</td>\n",
       "    </tr>\n",
       "    <tr>\n",
       "      <th>8</th>\n",
       "      <td>9</td>\n",
       "      <td>2019-03-16 00:00:00</td>\n",
       "      <td>3</td>\n",
       "      <td>77</td>\n",
       "      <td>4</td>\n",
       "      <td>1</td>\n",
       "      <td>108</td>\n",
       "      <td>150</td>\n",
       "      <td>1</td>\n",
       "      <td>15000</td>\n",
       "      <td>0</td>\n",
       "      <td>57</td>\n",
       "      <td>1</td>\n",
       "      <td>2750</td>\n",
       "      <td>55</td>\n",
       "      <td>1</td>\n",
       "      <td>880</td>\n",
       "      <td>2</td>\n",
       "      <td>3</td>\n",
       "      <td>1170</td>\n",
       "      <td>1</td>\n",
       "      <td>0</td>\n",
       "      <td>0</td>\n",
       "      <td>0</td>\n",
       "      <td>3</td>\n",
       "    </tr>\n",
       "    <tr>\n",
       "      <th>12</th>\n",
       "      <td>13</td>\n",
       "      <td>2019-03-16 00:00:00</td>\n",
       "      <td>3</td>\n",
       "      <td>77</td>\n",
       "      <td>3</td>\n",
       "      <td>1</td>\n",
       "      <td>120</td>\n",
       "      <td>150</td>\n",
       "      <td>1</td>\n",
       "      <td>25000</td>\n",
       "      <td>0</td>\n",
       "      <td>26</td>\n",
       "      <td>1</td>\n",
       "      <td>2000</td>\n",
       "      <td>0</td>\n",
       "      <td>0</td>\n",
       "      <td>0</td>\n",
       "      <td>2</td>\n",
       "      <td>2</td>\n",
       "      <td>3</td>\n",
       "      <td>1</td>\n",
       "      <td>0</td>\n",
       "      <td>0</td>\n",
       "      <td>0</td>\n",
       "      <td>3</td>\n",
       "    </tr>\n",
       "    <tr>\n",
       "      <th>19</th>\n",
       "      <td>20</td>\n",
       "      <td>2019-03-17 00:00:00</td>\n",
       "      <td>3</td>\n",
       "      <td>77</td>\n",
       "      <td>4</td>\n",
       "      <td>1</td>\n",
       "      <td>60</td>\n",
       "      <td>150</td>\n",
       "      <td>1</td>\n",
       "      <td>17000</td>\n",
       "      <td>0</td>\n",
       "      <td>54</td>\n",
       "      <td>1</td>\n",
       "      <td>3600</td>\n",
       "      <td>58</td>\n",
       "      <td>1</td>\n",
       "      <td>1500</td>\n",
       "      <td>2</td>\n",
       "      <td>6</td>\n",
       "      <td>725</td>\n",
       "      <td>1</td>\n",
       "      <td>1</td>\n",
       "      <td>0</td>\n",
       "      <td>1</td>\n",
       "      <td>2</td>\n",
       "    </tr>\n",
       "  </tbody>\n",
       "</table>\n",
       "</div>"
      ],
      "text/plain": [
       "    id                 date  providerName  reviewScore  interestRate  \\\n",
       "0    1  2019-03-14 00:00:00             3           77             4   \n",
       "2    3  2019-03-14 00:00:00             3           77             3   \n",
       "8    9  2019-03-16 00:00:00             3           77             4   \n",
       "12  13  2019-03-16 00:00:00             3           77             3   \n",
       "19  20  2019-03-17 00:00:00             3           77             4   \n",
       "\n",
       "    typeLoan  loanDuration  monthlyRepaymentAmount  loanPurpose  loanAmount  \\\n",
       "0          1           120                     150            1       17000   \n",
       "2          1           120                     150            1       33000   \n",
       "8          1           108                     150            1       15000   \n",
       "12         1           120                     150            1       25000   \n",
       "19         1            60                     150            1       17000   \n",
       "\n",
       "    loanCategory  age  typeIncome  netIncome  agePartner  typeIncomePartner  \\\n",
       "0              0   35           1       3347          34                  1   \n",
       "2              0   51           1       2584          54                  1   \n",
       "8              0   57           1       2750          55                  1   \n",
       "12             0   26           1       2000           0                  0   \n",
       "19             0   54           1       3600          58                  1   \n",
       "\n",
       "    netIncomePartner  children  province  residence  sortedBy  \\\n",
       "0                840         1         1        158         1   \n",
       "2               2366         1         1       1164         1   \n",
       "8                880         2         3       1170         1   \n",
       "12                 0         2         2          3         1   \n",
       "19              1500         2         6        725         1   \n",
       "\n",
       "    preferenceCompare products  positionProduct  consumptionValues  goals  \n",
       "0                            0                0                  0      3  \n",
       "2                            0                0                  0      3  \n",
       "8                            0                0                  0      3  \n",
       "12                           0                0                  0      3  \n",
       "19                           1                0                  1      2  "
      ]
     },
     "execution_count": 109,
     "metadata": {},
     "output_type": "execute_result"
    }
   ],
   "source": [
    "df_subset2 = df_subset.loc[df_subset['reviewScore'] == Yrs] #in the new data frame with the selected loan purpose, only select the rows with the same review score\n",
    "df_subset2.head()"
   ]
  },
  {
   "cell_type": "code",
   "execution_count": 110,
   "metadata": {},
   "outputs": [
    {
     "data": {
      "text/plain": [
       "1086"
      ]
     },
     "execution_count": 110,
     "metadata": {},
     "output_type": "execute_result"
    }
   ],
   "source": [
    "amountrows2 = df_subset2.shape[0] #calculate the amount of rows with same loan purpose and same review score\n",
    "amountrows2"
   ]
  },
  {
   "cell_type": "markdown",
   "metadata": {},
   "source": [
    "This is also done with the other two loans that are predicted for the customer."
   ]
  },
  {
   "cell_type": "code",
   "execution_count": 111,
   "metadata": {},
   "outputs": [
    {
     "data": {
      "text/html": [
       "<div>\n",
       "<style scoped>\n",
       "    .dataframe tbody tr th:only-of-type {\n",
       "        vertical-align: middle;\n",
       "    }\n",
       "\n",
       "    .dataframe tbody tr th {\n",
       "        vertical-align: top;\n",
       "    }\n",
       "\n",
       "    .dataframe thead th {\n",
       "        text-align: right;\n",
       "    }\n",
       "</style>\n",
       "<table border=\"1\" class=\"dataframe\">\n",
       "  <thead>\n",
       "    <tr style=\"text-align: right;\">\n",
       "      <th></th>\n",
       "      <th>id</th>\n",
       "      <th>date</th>\n",
       "      <th>providerName</th>\n",
       "      <th>reviewScore</th>\n",
       "      <th>interestRate</th>\n",
       "      <th>typeLoan</th>\n",
       "      <th>loanDuration</th>\n",
       "      <th>monthlyRepaymentAmount</th>\n",
       "      <th>loanPurpose</th>\n",
       "      <th>loanAmount</th>\n",
       "      <th>loanCategory</th>\n",
       "      <th>age</th>\n",
       "      <th>typeIncome</th>\n",
       "      <th>netIncome</th>\n",
       "      <th>agePartner</th>\n",
       "      <th>typeIncomePartner</th>\n",
       "      <th>netIncomePartner</th>\n",
       "      <th>children</th>\n",
       "      <th>province</th>\n",
       "      <th>residence</th>\n",
       "      <th>sortedBy</th>\n",
       "      <th>preferenceCompare products</th>\n",
       "      <th>positionProduct</th>\n",
       "      <th>consumptionValues</th>\n",
       "      <th>goals</th>\n",
       "    </tr>\n",
       "  </thead>\n",
       "  <tbody>\n",
       "    <tr>\n",
       "      <th>1686</th>\n",
       "      <td>1687</td>\n",
       "      <td>2019-08-12 00:00:00</td>\n",
       "      <td>0</td>\n",
       "      <td>76</td>\n",
       "      <td>5</td>\n",
       "      <td>1</td>\n",
       "      <td>60</td>\n",
       "      <td>150</td>\n",
       "      <td>1</td>\n",
       "      <td>25000</td>\n",
       "      <td>0</td>\n",
       "      <td>28</td>\n",
       "      <td>1</td>\n",
       "      <td>2200</td>\n",
       "      <td>0</td>\n",
       "      <td>0</td>\n",
       "      <td>0</td>\n",
       "      <td>2</td>\n",
       "      <td>9</td>\n",
       "      <td>67</td>\n",
       "      <td>2</td>\n",
       "      <td>0</td>\n",
       "      <td>9</td>\n",
       "      <td>2</td>\n",
       "      <td>3</td>\n",
       "    </tr>\n",
       "    <tr>\n",
       "      <th>1781</th>\n",
       "      <td>1782</td>\n",
       "      <td>2019-08-14 00:00:00</td>\n",
       "      <td>0</td>\n",
       "      <td>76</td>\n",
       "      <td>3</td>\n",
       "      <td>1</td>\n",
       "      <td>60</td>\n",
       "      <td>150</td>\n",
       "      <td>1</td>\n",
       "      <td>25000</td>\n",
       "      <td>0</td>\n",
       "      <td>32</td>\n",
       "      <td>1</td>\n",
       "      <td>2803</td>\n",
       "      <td>29</td>\n",
       "      <td>2</td>\n",
       "      <td>1000</td>\n",
       "      <td>1</td>\n",
       "      <td>7</td>\n",
       "      <td>242</td>\n",
       "      <td>2</td>\n",
       "      <td>0</td>\n",
       "      <td>1</td>\n",
       "      <td>2</td>\n",
       "      <td>3</td>\n",
       "    </tr>\n",
       "    <tr>\n",
       "      <th>1784</th>\n",
       "      <td>1785</td>\n",
       "      <td>2019-08-15 00:00:00</td>\n",
       "      <td>0</td>\n",
       "      <td>76</td>\n",
       "      <td>3</td>\n",
       "      <td>1</td>\n",
       "      <td>72</td>\n",
       "      <td>150</td>\n",
       "      <td>1</td>\n",
       "      <td>35000</td>\n",
       "      <td>0</td>\n",
       "      <td>31</td>\n",
       "      <td>1</td>\n",
       "      <td>2500</td>\n",
       "      <td>0</td>\n",
       "      <td>0</td>\n",
       "      <td>0</td>\n",
       "      <td>2</td>\n",
       "      <td>2</td>\n",
       "      <td>870</td>\n",
       "      <td>1</td>\n",
       "      <td>0</td>\n",
       "      <td>1</td>\n",
       "      <td>2</td>\n",
       "      <td>3</td>\n",
       "    </tr>\n",
       "    <tr>\n",
       "      <th>1825</th>\n",
       "      <td>1826</td>\n",
       "      <td>2019-08-16 00:00:00</td>\n",
       "      <td>0</td>\n",
       "      <td>76</td>\n",
       "      <td>5</td>\n",
       "      <td>1</td>\n",
       "      <td>60</td>\n",
       "      <td>150</td>\n",
       "      <td>1</td>\n",
       "      <td>10000</td>\n",
       "      <td>0</td>\n",
       "      <td>46</td>\n",
       "      <td>1</td>\n",
       "      <td>1910</td>\n",
       "      <td>0</td>\n",
       "      <td>0</td>\n",
       "      <td>0</td>\n",
       "      <td>1</td>\n",
       "      <td>2</td>\n",
       "      <td>892</td>\n",
       "      <td>1</td>\n",
       "      <td>0</td>\n",
       "      <td>5</td>\n",
       "      <td>0</td>\n",
       "      <td>3</td>\n",
       "    </tr>\n",
       "    <tr>\n",
       "      <th>1827</th>\n",
       "      <td>1828</td>\n",
       "      <td>2019-08-16 00:00:00</td>\n",
       "      <td>0</td>\n",
       "      <td>76</td>\n",
       "      <td>3</td>\n",
       "      <td>1</td>\n",
       "      <td>72</td>\n",
       "      <td>150</td>\n",
       "      <td>1</td>\n",
       "      <td>24000</td>\n",
       "      <td>0</td>\n",
       "      <td>48</td>\n",
       "      <td>1</td>\n",
       "      <td>3500</td>\n",
       "      <td>49</td>\n",
       "      <td>1</td>\n",
       "      <td>1900</td>\n",
       "      <td>1</td>\n",
       "      <td>9</td>\n",
       "      <td>404</td>\n",
       "      <td>1</td>\n",
       "      <td>0</td>\n",
       "      <td>1</td>\n",
       "      <td>2</td>\n",
       "      <td>3</td>\n",
       "    </tr>\n",
       "  </tbody>\n",
       "</table>\n",
       "</div>"
      ],
      "text/plain": [
       "        id                 date  providerName  reviewScore  interestRate  \\\n",
       "1686  1687  2019-08-12 00:00:00             0           76             5   \n",
       "1781  1782  2019-08-14 00:00:00             0           76             3   \n",
       "1784  1785  2019-08-15 00:00:00             0           76             3   \n",
       "1825  1826  2019-08-16 00:00:00             0           76             5   \n",
       "1827  1828  2019-08-16 00:00:00             0           76             3   \n",
       "\n",
       "      typeLoan  loanDuration  monthlyRepaymentAmount  loanPurpose  loanAmount  \\\n",
       "1686         1            60                     150            1       25000   \n",
       "1781         1            60                     150            1       25000   \n",
       "1784         1            72                     150            1       35000   \n",
       "1825         1            60                     150            1       10000   \n",
       "1827         1            72                     150            1       24000   \n",
       "\n",
       "      loanCategory  age  typeIncome  netIncome  agePartner  typeIncomePartner  \\\n",
       "1686             0   28           1       2200           0                  0   \n",
       "1781             0   32           1       2803          29                  2   \n",
       "1784             0   31           1       2500           0                  0   \n",
       "1825             0   46           1       1910           0                  0   \n",
       "1827             0   48           1       3500          49                  1   \n",
       "\n",
       "      netIncomePartner  children  province  residence  sortedBy  \\\n",
       "1686                 0         2         9         67         2   \n",
       "1781              1000         1         7        242         2   \n",
       "1784                 0         2         2        870         1   \n",
       "1825                 0         1         2        892         1   \n",
       "1827              1900         1         9        404         1   \n",
       "\n",
       "      preferenceCompare products  positionProduct  consumptionValues  goals  \n",
       "1686                           0                9                  2      3  \n",
       "1781                           0                1                  2      3  \n",
       "1784                           0                1                  2      3  \n",
       "1825                           0                5                  0      3  \n",
       "1827                           0                1                  2      3  "
      ]
     },
     "execution_count": 111,
     "metadata": {},
     "output_type": "execute_result"
    }
   ],
   "source": [
    "df_subset3 = df_subset.loc[df_subset['reviewScore'] == Yrs2] #in the new data frame with the selected loan purpose, only select the rows with the same review score of second loan\n",
    "df_subset3.head()"
   ]
  },
  {
   "cell_type": "code",
   "execution_count": 112,
   "metadata": {},
   "outputs": [
    {
     "data": {
      "text/plain": [
       "170"
      ]
     },
     "execution_count": 112,
     "metadata": {},
     "output_type": "execute_result"
    }
   ],
   "source": [
    "amountrows3 = df_subset3.shape[0] #calculate the amount of rows with same loan purpose and same review score of second loan\n",
    "amountrows3"
   ]
  },
  {
   "cell_type": "code",
   "execution_count": 113,
   "metadata": {},
   "outputs": [
    {
     "data": {
      "text/html": [
       "<div>\n",
       "<style scoped>\n",
       "    .dataframe tbody tr th:only-of-type {\n",
       "        vertical-align: middle;\n",
       "    }\n",
       "\n",
       "    .dataframe tbody tr th {\n",
       "        vertical-align: top;\n",
       "    }\n",
       "\n",
       "    .dataframe thead th {\n",
       "        text-align: right;\n",
       "    }\n",
       "</style>\n",
       "<table border=\"1\" class=\"dataframe\">\n",
       "  <thead>\n",
       "    <tr style=\"text-align: right;\">\n",
       "      <th></th>\n",
       "      <th>id</th>\n",
       "      <th>date</th>\n",
       "      <th>providerName</th>\n",
       "      <th>reviewScore</th>\n",
       "      <th>interestRate</th>\n",
       "      <th>typeLoan</th>\n",
       "      <th>loanDuration</th>\n",
       "      <th>monthlyRepaymentAmount</th>\n",
       "      <th>loanPurpose</th>\n",
       "      <th>loanAmount</th>\n",
       "      <th>loanCategory</th>\n",
       "      <th>age</th>\n",
       "      <th>typeIncome</th>\n",
       "      <th>netIncome</th>\n",
       "      <th>agePartner</th>\n",
       "      <th>typeIncomePartner</th>\n",
       "      <th>netIncomePartner</th>\n",
       "      <th>children</th>\n",
       "      <th>province</th>\n",
       "      <th>residence</th>\n",
       "      <th>sortedBy</th>\n",
       "      <th>preferenceCompare products</th>\n",
       "      <th>positionProduct</th>\n",
       "      <th>consumptionValues</th>\n",
       "      <th>goals</th>\n",
       "    </tr>\n",
       "  </thead>\n",
       "  <tbody>\n",
       "    <tr>\n",
       "      <th>1405</th>\n",
       "      <td>1406</td>\n",
       "      <td>2019-08-01 00:00:00</td>\n",
       "      <td>1</td>\n",
       "      <td>79</td>\n",
       "      <td>4</td>\n",
       "      <td>1</td>\n",
       "      <td>60</td>\n",
       "      <td>150</td>\n",
       "      <td>1</td>\n",
       "      <td>17500</td>\n",
       "      <td>0</td>\n",
       "      <td>28</td>\n",
       "      <td>1</td>\n",
       "      <td>2500</td>\n",
       "      <td>0</td>\n",
       "      <td>0</td>\n",
       "      <td>0</td>\n",
       "      <td>2</td>\n",
       "      <td>4</td>\n",
       "      <td>296</td>\n",
       "      <td>2</td>\n",
       "      <td>0</td>\n",
       "      <td>2</td>\n",
       "      <td>2</td>\n",
       "      <td>3</td>\n",
       "    </tr>\n",
       "    <tr>\n",
       "      <th>1460</th>\n",
       "      <td>1461</td>\n",
       "      <td>2019-08-03 00:00:00</td>\n",
       "      <td>7</td>\n",
       "      <td>79</td>\n",
       "      <td>6</td>\n",
       "      <td>2</td>\n",
       "      <td>60</td>\n",
       "      <td>100</td>\n",
       "      <td>1</td>\n",
       "      <td>5000</td>\n",
       "      <td>0</td>\n",
       "      <td>35</td>\n",
       "      <td>1</td>\n",
       "      <td>2150</td>\n",
       "      <td>36</td>\n",
       "      <td>7</td>\n",
       "      <td>0</td>\n",
       "      <td>1</td>\n",
       "      <td>7</td>\n",
       "      <td>380</td>\n",
       "      <td>1</td>\n",
       "      <td>0</td>\n",
       "      <td>2</td>\n",
       "      <td>0</td>\n",
       "      <td>3</td>\n",
       "    </tr>\n",
       "    <tr>\n",
       "      <th>1537</th>\n",
       "      <td>1538</td>\n",
       "      <td>2019-08-06 00:00:00</td>\n",
       "      <td>1</td>\n",
       "      <td>79</td>\n",
       "      <td>4</td>\n",
       "      <td>1</td>\n",
       "      <td>120</td>\n",
       "      <td>150</td>\n",
       "      <td>1</td>\n",
       "      <td>15000</td>\n",
       "      <td>0</td>\n",
       "      <td>33</td>\n",
       "      <td>1</td>\n",
       "      <td>2380</td>\n",
       "      <td>32</td>\n",
       "      <td>6</td>\n",
       "      <td>1000</td>\n",
       "      <td>1</td>\n",
       "      <td>10</td>\n",
       "      <td>1118</td>\n",
       "      <td>1</td>\n",
       "      <td>0</td>\n",
       "      <td>2</td>\n",
       "      <td>0</td>\n",
       "      <td>3</td>\n",
       "    </tr>\n",
       "    <tr>\n",
       "      <th>1590</th>\n",
       "      <td>1591</td>\n",
       "      <td>2019-08-08 00:00:00</td>\n",
       "      <td>1</td>\n",
       "      <td>79</td>\n",
       "      <td>6</td>\n",
       "      <td>2</td>\n",
       "      <td>60</td>\n",
       "      <td>150</td>\n",
       "      <td>1</td>\n",
       "      <td>10000</td>\n",
       "      <td>0</td>\n",
       "      <td>49</td>\n",
       "      <td>1</td>\n",
       "      <td>1500</td>\n",
       "      <td>62</td>\n",
       "      <td>2</td>\n",
       "      <td>1500</td>\n",
       "      <td>1</td>\n",
       "      <td>4</td>\n",
       "      <td>296</td>\n",
       "      <td>1</td>\n",
       "      <td>0</td>\n",
       "      <td>3</td>\n",
       "      <td>0</td>\n",
       "      <td>3</td>\n",
       "    </tr>\n",
       "    <tr>\n",
       "      <th>1684</th>\n",
       "      <td>1685</td>\n",
       "      <td>2019-08-12 00:00:00</td>\n",
       "      <td>7</td>\n",
       "      <td>79</td>\n",
       "      <td>6</td>\n",
       "      <td>2</td>\n",
       "      <td>60</td>\n",
       "      <td>200</td>\n",
       "      <td>1</td>\n",
       "      <td>5000</td>\n",
       "      <td>0</td>\n",
       "      <td>31</td>\n",
       "      <td>5</td>\n",
       "      <td>1860</td>\n",
       "      <td>0</td>\n",
       "      <td>0</td>\n",
       "      <td>0</td>\n",
       "      <td>2</td>\n",
       "      <td>11</td>\n",
       "      <td>1024</td>\n",
       "      <td>1</td>\n",
       "      <td>0</td>\n",
       "      <td>2</td>\n",
       "      <td>0</td>\n",
       "      <td>3</td>\n",
       "    </tr>\n",
       "  </tbody>\n",
       "</table>\n",
       "</div>"
      ],
      "text/plain": [
       "        id                 date  providerName  reviewScore  interestRate  \\\n",
       "1405  1406  2019-08-01 00:00:00             1           79             4   \n",
       "1460  1461  2019-08-03 00:00:00             7           79             6   \n",
       "1537  1538  2019-08-06 00:00:00             1           79             4   \n",
       "1590  1591  2019-08-08 00:00:00             1           79             6   \n",
       "1684  1685  2019-08-12 00:00:00             7           79             6   \n",
       "\n",
       "      typeLoan  loanDuration  monthlyRepaymentAmount  loanPurpose  loanAmount  \\\n",
       "1405         1            60                     150            1       17500   \n",
       "1460         2            60                     100            1        5000   \n",
       "1537         1           120                     150            1       15000   \n",
       "1590         2            60                     150            1       10000   \n",
       "1684         2            60                     200            1        5000   \n",
       "\n",
       "      loanCategory  age  typeIncome  netIncome  agePartner  typeIncomePartner  \\\n",
       "1405             0   28           1       2500           0                  0   \n",
       "1460             0   35           1       2150          36                  7   \n",
       "1537             0   33           1       2380          32                  6   \n",
       "1590             0   49           1       1500          62                  2   \n",
       "1684             0   31           5       1860           0                  0   \n",
       "\n",
       "      netIncomePartner  children  province  residence  sortedBy  \\\n",
       "1405                 0         2         4        296         2   \n",
       "1460                 0         1         7        380         1   \n",
       "1537              1000         1        10       1118         1   \n",
       "1590              1500         1         4        296         1   \n",
       "1684                 0         2        11       1024         1   \n",
       "\n",
       "      preferenceCompare products  positionProduct  consumptionValues  goals  \n",
       "1405                           0                2                  2      3  \n",
       "1460                           0                2                  0      3  \n",
       "1537                           0                2                  0      3  \n",
       "1590                           0                3                  0      3  \n",
       "1684                           0                2                  0      3  "
      ]
     },
     "execution_count": 113,
     "metadata": {},
     "output_type": "execute_result"
    }
   ],
   "source": [
    "df_subset4 = df_subset.loc[df_subset['reviewScore'] == Yrs3] #in the new data frame with the selected loan purpose, only select the rows with the same review score of third loan\n",
    "df_subset4.head()"
   ]
  },
  {
   "cell_type": "code",
   "execution_count": 114,
   "metadata": {},
   "outputs": [
    {
     "data": {
      "text/plain": [
       "201"
      ]
     },
     "execution_count": 114,
     "metadata": {},
     "output_type": "execute_result"
    }
   ],
   "source": [
    "amountrows4 = df_subset4.shape[0] #calculate the amount of rows with same loan purpose and same review score of third loan\n",
    "amountrows4"
   ]
  },
  {
   "cell_type": "markdown",
   "metadata": {},
   "source": [
    "---\n",
    "## Monthly amount\n",
    "With the new predicted advices, I calculated the monthly amount that the customer must pay."
   ]
  },
  {
   "cell_type": "markdown",
   "metadata": {},
   "source": [
    "First I collected the total amount that the new customer has to pay."
   ]
  },
  {
   "cell_type": "code",
   "execution_count": 115,
   "metadata": {},
   "outputs": [
    {
     "data": {
      "text/plain": [
       "25000"
      ]
     },
     "execution_count": 115,
     "metadata": {},
     "output_type": "execute_result"
    }
   ],
   "source": [
    "loanAmount = df2.iloc[0]['loanAmount']\n",
    "loanAmount"
   ]
  },
  {
   "cell_type": "markdown",
   "metadata": {},
   "source": [
    "Then I calculated the monthly amount for every predicted loan with the following formula:"
   ]
  },
  {
   "cell_type": "code",
   "execution_count": 116,
   "metadata": {},
   "outputs": [
    {
     "data": {
      "text/plain": [
       "429"
      ]
     },
     "execution_count": 116,
     "metadata": {},
     "output_type": "execute_result"
    }
   ],
   "source": [
    "monthamount = int(((loanAmount*Yir/100)+loanAmount)/Yld)\n",
    "monthamount"
   ]
  },
  {
   "cell_type": "code",
   "execution_count": 117,
   "metadata": {},
   "outputs": [
    {
     "data": {
      "text/plain": [
       "2166"
      ]
     },
     "execution_count": 117,
     "metadata": {},
     "output_type": "execute_result"
    }
   ],
   "source": [
    "monthamount2 = int(((loanAmount*Yir2/100)+loanAmount)/Yld2)\n",
    "monthamount2"
   ]
  },
  {
   "cell_type": "code",
   "execution_count": 118,
   "metadata": {},
   "outputs": [
    {
     "data": {
      "text/plain": [
       "729"
      ]
     },
     "execution_count": 118,
     "metadata": {},
     "output_type": "execute_result"
    }
   ],
   "source": [
    "monthamount3 = int(((loanAmount*Yir3/100)+loanAmount)/Yld3)\n",
    "monthamount3"
   ]
  },
  {
   "cell_type": "markdown",
   "metadata": {},
   "source": [
    "---\n",
    "## Store new data of customer in database\n",
    "By predicting all new data for the new customer, it can be stored in the database with table customerdata. With this data the results overview can be shown in the prototype."
   ]
  },
  {
   "cell_type": "code",
   "execution_count": 119,
   "metadata": {},
   "outputs": [],
   "source": [
    "mycursor = mydb.cursor()\n",
    "#update new data of the customer\n",
    "mycursor.execute(\"update customerdata set reviewScore = %s, reviewScore2 = %s, reviewScore3 = %s, interestRate = %s, interestRate2 = %s, interestRate3 = %s, typeLoan = %s, loanDuration = %s, loanDuration2 = %s, loanDuration3 = %s, highestReviewScore = %s, lowestLoanDuration = %s, persuasion = %s, persuasion2 = %s, persuasion3 = %s, monthamount = %s, monthamount2 = %s, monthamount3 = %s where id = %s;\", (Yrs, Yrs2, Yrs3, Yir, Yir2, Yir3, Ytl, Yld, Yld2, Yld3, highestReviewScore, lowestLoanDuration, amountrows2, amountrows3, amountrows4, monthamount, monthamount2, monthamount3, id_customer))"
   ]
  },
  {
   "cell_type": "markdown",
   "metadata": {},
   "source": [
    "To use this algorithm in the prototype it must be converted into a python file."
   ]
  },
  {
   "cell_type": "code",
   "execution_count": 120,
   "metadata": {},
   "outputs": [
    {
     "name": "stderr",
     "output_type": "stream",
     "text": [
      "[NbConvertApp] Converting notebook algorithm.ipynb to script\n",
      "[NbConvertApp] Writing 12301 bytes to algorithm.py\n"
     ]
    }
   ],
   "source": [
    "!jupyter nbconvert --to script algorithm.ipynb"
   ]
  },
  {
   "cell_type": "code",
   "execution_count": null,
   "metadata": {},
   "outputs": [],
   "source": []
  }
 ],
 "metadata": {
  "kernelspec": {
   "display_name": "Python 3",
   "language": "python",
   "name": "python3"
  },
  "language_info": {
   "codemirror_mode": {
    "name": "ipython",
    "version": 3
   },
   "file_extension": ".py",
   "mimetype": "text/x-python",
   "name": "python",
   "nbconvert_exporter": "python",
   "pygments_lexer": "ipython3",
   "version": "3.7.3"
  }
 },
 "nbformat": 4,
 "nbformat_minor": 4
}
